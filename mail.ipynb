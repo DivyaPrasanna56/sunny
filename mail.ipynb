{
  "nbformat": 4,
  "nbformat_minor": 0,
  "metadata": {
    "colab": {
      "provenance": [],
      "authorship_tag": "ABX9TyNwn7wVbPHT6ztpfnJDbNDE",
      "include_colab_link": true
    },
    "kernelspec": {
      "name": "python3",
      "display_name": "Python 3"
    },
    "language_info": {
      "name": "python"
    }
  },
  "cells": [
    {
      "cell_type": "markdown",
      "metadata": {
        "id": "view-in-github",
        "colab_type": "text"
      },
      "source": [
        "<a href=\"https://colab.research.google.com/github/DivyaPrasanna56/sunny/blob/Divya/mail.ipynb\" target=\"_parent\"><img src=\"https://colab.research.google.com/assets/colab-badge.svg\" alt=\"Open In Colab\"/></a>"
      ]
    },
    {
      "cell_type": "code",
      "source": [
        "import smtplib\n",
        "from email.mime.text import MIMEText\n",
        "from email.mime.multipart import MIMEMultipart\n",
        "import getpass\n",
        "\n",
        "def send_mail(sender_email, app_password, recipients, summary, plan_of_action):\n",
        "    # Convert bullets to HTML line breaks\n",
        "    plan_of_action = plan_of_action.replace(\"*\", \"<br>*\")\n",
        "\n",
        "    # Email subject and body\n",
        "    subject = \"Meeting Summary and Plan of Action\"\n",
        "    body = f\"\"\"\n",
        "    Dear Team,<br><br>\n",
        "\n",
        "    I hope this email finds you well. The purpose of this message is to highlight the key points discussed in today's meeting:<br><br>\n",
        "\n",
        "    <b>Summary:</b><br>\n",
        "    {summary}<br><br>\n",
        "\n",
        "    <b>Plan of Action:</b><br>\n",
        "    {plan_of_action}<br>\n",
        "\n",
        "    Your prompt attention to these matters is appreciated.<br><br>\n",
        "\n",
        "    Best regards,<br>\n",
        "    Divya\n",
        "    \"\"\"\n",
        "\n",
        "    # Create MIMEText object\n",
        "    message = MIMEMultipart()\n",
        "    message['From'] = sender_email\n",
        "    message['To'] = ', '.join(recipients)\n",
        "    message['Subject'] = subject\n",
        "    message.attach(MIMEText(body, 'html'))  # Ensure HTML formatting for the body\n",
        "\n",
        "    try:\n",
        "        # Establish SMTP connection\n",
        "        with smtplib.SMTP(\"smtp.gmail.com\", 587) as server:\n",
        "            server.starttls()\n",
        "            server.login(sender_email, app_password)\n",
        "            server.sendmail(sender_email, recipients, message.as_string())\n",
        "\n",
        "        print(f\"Email has been successfully sent to {', '.join(recipients)}\")\n",
        "        return \"Email sent successfully\"\n",
        "\n",
        "    except Exception as e:\n",
        "        print(f\"Failed to send email. Error: {str(e)}\")\n",
        "        return str(e)\n",
        "sender_email = \"22nn1a4256@gmail.com\"\n",
        "app_password = getpass.getpass(\"Enter your app password: \")\n",
        "recipients = [\"22nn1a4208@gmail.com.com\", \"22nn1a4259@gmail.com\"]\n",
        "summary = \"We discussed project timelines and deliverables.\"\n",
        "plan_of_action = \"* Finalize project scope\\n* Assign tasks to team members\\n* Schedule follow-up meeting\"\n",
        "\n",
        "result = send_mail(sender_email, app_password, recipients, summary, plan_of_action)\n",
        "print(result)\n"
      ],
      "metadata": {
        "colab": {
          "base_uri": "https://localhost:8080/"
        },
        "id": "8cDC6BIRDPY9",
        "outputId": "be942889-0267-458a-ebad-331a19df9f9e"
      },
      "execution_count": 29,
      "outputs": [
        {
          "output_type": "stream",
          "name": "stdout",
          "text": [
            "Enter your app password: ··········\n",
            "Email has been successfully sent to 22nn1a4208@gmail.com.com, 22nn1a4259@gmail.com\n",
            "Email sent successfully\n"
          ]
        }
      ]
    }
  ]
}